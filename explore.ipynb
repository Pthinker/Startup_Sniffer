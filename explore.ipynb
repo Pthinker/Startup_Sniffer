{
 "metadata": {
  "name": "explore"
 },
 "nbformat": 3,
 "nbformat_minor": 0,
 "worksheets": [
  {
   "cells": [
    {
     "cell_type": "code",
     "collapsed": false,
     "input": [
      "import os\n",
      "import numpy as np\n",
      "import pandas as pd\n",
      "\n",
      "from sklearn.ensemble import RandomForestClassifier\n",
      "from sklearn.cross_validation import KFold\n",
      "from sklearn.metrics import roc_curve, auc, precision_score, classification_report\n",
      "import pylab as pl\n",
      "from scipy import interp\n",
      "\n",
      "import util\n",
      "import predict"
     ],
     "language": "python",
     "metadata": {},
     "outputs": [],
     "prompt_number": 1
    },
    {
     "cell_type": "code",
     "collapsed": false,
     "input": [
      "DATA_FPATH = \"data/training.csv\"\n",
      "\n",
      "df = pd.read_csv(DATA_FPATH, header=0, index_col=0)\n"
     ],
     "language": "python",
     "metadata": {},
     "outputs": [],
     "prompt_number": 2
    },
    {
     "cell_type": "code",
     "collapsed": false,
     "input": [
      "print \"Positive instances:\", df[df['success']==1].shape\n",
      "print \"Negative instances:\", df[df['success']==0].shape"
     ],
     "language": "python",
     "metadata": {},
     "outputs": [
      {
       "output_type": "stream",
       "stream": "stdout",
       "text": [
        "Positive instances: (3620, 15)\n",
        "Negative instances: (15356, 15)\n"
       ]
      }
     ],
     "prompt_number": 5
    },
    {
     "cell_type": "code",
     "collapsed": false,
     "input": [],
     "language": "python",
     "metadata": {},
     "outputs": []
    }
   ],
   "metadata": {}
  }
 ]
}